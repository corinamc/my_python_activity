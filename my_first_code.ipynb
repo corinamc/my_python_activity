{
 "cells": [
  {
   "cell_type": "code",
   "execution_count": 1,
   "id": "1cb7b234",
   "metadata": {},
   "outputs": [],
   "source": [
    "# this is my first line of code"
   ]
  },
  {
   "cell_type": "code",
   "execution_count": 2,
   "id": "a19211a0",
   "metadata": {},
   "outputs": [
    {
     "name": "stdout",
     "output_type": "stream",
     "text": [
      "My name is Corina\n",
      "The date is 21st March 2022\n"
     ]
    }
   ],
   "source": [
    "print('My name is Corina')\n",
    "print('The date is 21st March 2022')"
   ]
  },
  {
   "cell_type": "code",
   "execution_count": 3,
   "id": "ba65cec7",
   "metadata": {},
   "outputs": [],
   "source": [
    "# Write a program to analyse real estate data"
   ]
  },
  {
   "cell_type": "code",
   "execution_count": 4,
   "id": "a7493b06",
   "metadata": {},
   "outputs": [
    {
     "name": "stdout",
     "output_type": "stream",
     "text": [
      "45000 23400 67000 34600 12900\n"
     ]
    }
   ],
   "source": [
    "# create variables\n",
    "a = 45000\n",
    "b = 23400\n",
    "c = 67000\n",
    "d = 34600\n",
    "e = 12900\n",
    "print(a,b,c,d,e)"
   ]
  },
  {
   "cell_type": "code",
   "execution_count": 5,
   "id": "050c6aab",
   "metadata": {},
   "outputs": [
    {
     "name": "stdout",
     "output_type": "stream",
     "text": [
      "182900\n"
     ]
    }
   ],
   "source": [
    "print(a+b+c+d+e)"
   ]
  },
  {
   "cell_type": "code",
   "execution_count": 7,
   "id": "96010a93",
   "metadata": {},
   "outputs": [
    {
     "name": "stdout",
     "output_type": "stream",
     "text": [
      "36580.0\n"
     ]
    }
   ],
   "source": [
    "# calculate average sales\n",
    "print((a+b+c+d+e)/5)"
   ]
  },
  {
   "cell_type": "code",
   "execution_count": 8,
   "id": "9d7f5b4d",
   "metadata": {},
   "outputs": [
    {
     "name": "stdout",
     "output_type": "stream",
     "text": [
      "60500\n"
     ]
    }
   ],
   "source": [
    "# calculate property price (saled price - commission) for property c\n",
    "c -=6500\n",
    "print (c)"
   ]
  },
  {
   "cell_type": "code",
   "execution_count": null,
   "id": "a5bb7aff",
   "metadata": {},
   "outputs": [],
   "source": []
  }
 ],
 "metadata": {
  "kernelspec": {
   "display_name": "Python 3 (ipykernel)",
   "language": "python",
   "name": "python3"
  },
  "language_info": {
   "codemirror_mode": {
    "name": "ipython",
    "version": 3
   },
   "file_extension": ".py",
   "mimetype": "text/x-python",
   "name": "python",
   "nbconvert_exporter": "python",
   "pygments_lexer": "ipython3",
   "version": "3.9.7"
  }
 },
 "nbformat": 4,
 "nbformat_minor": 5
}
